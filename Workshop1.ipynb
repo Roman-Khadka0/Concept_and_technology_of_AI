{
  "nbformat": 4,
  "nbformat_minor": 0,
  "metadata": {
    "colab": {
      "provenance": []
    },
    "kernelspec": {
      "name": "python3",
      "display_name": "Python 3"
    },
    "language_info": {
      "name": "python"
    }
  },
  "cells": [
    {
      "cell_type": "markdown",
      "source": [
        "\n",
        "4. TO - DO - Task\n",
        "\n",
        "Please complete all the problem listed below.\n",
        "4.1 Warming Up Exercise: Basic Vector and Matrix Operation with Numpy.\n",
        "Problem - 1: Array Creation:\n",
        "Complete the following Tasks:\n",
        "1. Initialize an empty array with size 2X2.\n",
        "2. Initialize an all one array with size 4X2.\n",
        "3. Return a new array of given shape and type, filled with fill value.{Hint: np.full}\n",
        "4. Return a new array of zeros with same shape and type as a given array.{Hint: np.zeros like}\n",
        "5. Return a new array of ones with same shape and type as a given array.{Hint: np.ones like}\n",
        "6. For an existing list new_list = [1,2,3,4] convert to an numpy array.{Hint: np.array()}\n",
        "\n"
      ],
      "metadata": {
        "id": "ERx7k-YnVYlx"
      }
    },
    {
      "cell_type": "code",
      "source": [
        "import numpy as np\n",
        "\n",
        "# 1.\n",
        "empty_array = np.empty((2, 2))\n",
        "print(\"1. Empty Array (2x2):\\n\", empty_array)\n",
        "\n",
        "# 2.\n",
        "ones_array = np.ones((4, 2))\n",
        "print(\"\\n2. All-One Array (4x2):\\n\", ones_array)\n",
        "\n",
        "# 3.\n",
        "fill_value = 7\n",
        "filled_array = np.full((3, 3), fill_value)\n",
        "print(\"\\n3. Array filled with value 7 (3x3):\\n\", filled_array)\n",
        "\n",
        "# 4.\n",
        "given_array = np.array([[2, 4], [6, 8]])\n",
        "zeros_like_array = np.zeros_like(given_array)\n",
        "print(\"\\n4. Zeros Array (Same shape as given array):\\n\", zeros_like_array)\n",
        "\n",
        "# 5.\n",
        "ones_like_array = np.ones_like(given_array)\n",
        "print(\"\\n5. Ones Array (Same shape as given array):\\n\", ones_like_array)\n",
        "\n",
        "# 6.\n",
        "new_list = [1, 2, 3, 4]\n",
        "converted_array = np.array(new_list)\n",
        "print(\"\\n6. Converted Numpy Array from list [1, 2, 3, 4]:\\n\", converted_array)\n"
      ],
      "metadata": {
        "colab": {
          "base_uri": "https://localhost:8080/"
        },
        "id": "5IMJ-rVcVf8b",
        "outputId": "73e1c034-4d3b-458f-a349-10720a1582e2"
      },
      "execution_count": 2,
      "outputs": [
        {
          "output_type": "stream",
          "name": "stdout",
          "text": [
            "1. Empty Array (2x2):\n",
            " [[4.94738513e-310 0.00000000e+000]\n",
            " [            nan 2.73610137e-310]]\n",
            "\n",
            "2. All-One Array (4x2):\n",
            " [[1. 1.]\n",
            " [1. 1.]\n",
            " [1. 1.]\n",
            " [1. 1.]]\n",
            "\n",
            "3. Array filled with value 7 (3x3):\n",
            " [[7 7 7]\n",
            " [7 7 7]\n",
            " [7 7 7]]\n",
            "\n",
            "4. Zeros Array (Same shape as given array):\n",
            " [[0 0]\n",
            " [0 0]]\n",
            "\n",
            "5. Ones Array (Same shape as given array):\n",
            " [[1 1]\n",
            " [1 1]]\n",
            "\n",
            "6. Converted Numpy Array from list [1, 2, 3, 4]:\n",
            " [1 2 3 4]\n"
          ]
        }
      ]
    },
    {
      "cell_type": "markdown",
      "source": [
        "4.1.1 Problem - 2: Array Manipulation: Numerical Ranges and Array indexing:\n",
        "Complete the following tasks:\n",
        "1. Create an array with values ranging from 10 to 49. {Hint:np.arrange()}.\n",
        "2. Create a 3X3 matrix with values ranging from 0 to 8.\n",
        "{Hint:look for np.reshape()}\n",
        "3. Create a 3X3 identity matrix.{Hint:np.eye()}\n",
        "4. Create a random array of size 30 and find the mean of the array.\n",
        "{Hint:check for np.random.random() and array.mean() function}\n",
        "5. Create a 10X10 array with random values and find the minimum and maximum values.\n",
        "6. Create a zero array of size 10 and replace 5th element with 1.\n",
        "7. Reverse an array arr = [1,2,0,0,4,0].\n",
        "8. Create a 2d array with 1 on border and 0 inside.\n",
        "9. Create a 8X8 matrix and fill it with a checkerboard pattern."
      ],
      "metadata": {
        "id": "FdxxYsJhW8rc"
      }
    },
    {
      "cell_type": "code",
      "source": [
        "import numpy as np\n",
        "\n",
        "# 1.\n",
        "array_range = np.arange(10, 50)\n",
        "print(\"1. Array ranging from 10 to 49:\\n\", array_range)\n",
        "\n",
        "# 2.\n",
        "matrix_3x3 = np.arange(9).reshape((3, 3))\n",
        "print(\"\\n2. 3x3 Matrix (values from 0 to 8):\\n\", matrix_3x3)\n",
        "\n",
        "# 3.\n",
        "identity_matrix = np.eye(3)\n",
        "print(\"\\n3. 3x3 Identity Matrix:\\n\", identity_matrix)\n",
        "\n",
        "# 4.\n",
        "random_array = np.random.random(30)\n",
        "mean_value = random_array.mean()\n",
        "print(\"\\n4. Random Array (size 30):\\n\", random_array)\n",
        "print(\"Mean of the array:\", mean_value)\n",
        "\n",
        "# 5.\n",
        "random_10x10 = np.random.random((10, 10))\n",
        "min_value = random_10x10.min()\n",
        "max_value = random_10x10.max()\n",
        "print(\"\\n5. 10x10 Random Array:\\n\", random_10x10)\n",
        "print(\"Minimum value:\", min_value)\n",
        "print(\"Maximum value:\", max_value)\n",
        "\n",
        "# 6.\n",
        "zero_array = np.zeros(10)\n",
        "zero_array[4] = 1\n",
        "print(\"\\n6. Zero Array with 5th element replaced by 1:\\n\", zero_array)\n",
        "\n",
        "# 7.\n",
        "arr = np.array([1, 2, 0, 0, 4, 0])\n",
        "reversed_array = arr[::-1]\n",
        "print(\"\\n7. Reversed Array:\\n\", reversed_array)\n",
        "\n",
        "# 8.\n",
        "border_array = np.ones((5, 5))\n",
        "border_array[1:-1, 1:-1] = 0\n",
        "print(\"\\n8. 2D Array with 1 on border and 0 inside:\\n\", border_array)\n",
        "\n",
        "# 9.\n",
        "checkerboard = np.zeros((8, 8), dtype=int)\n",
        "checkerboard[::2, 1::2] = 1\n",
        "checkerboard[1::2, ::2] = 1\n",
        "print(\"\\n9. 8x8 Checkerboard Pattern:\\n\", checkerboard)\n"
      ],
      "metadata": {
        "colab": {
          "base_uri": "https://localhost:8080/"
        },
        "id": "M-T6hT4wXYPF",
        "outputId": "1ac182e8-b0de-4f9c-c6e7-f046fed6fc11"
      },
      "execution_count": 3,
      "outputs": [
        {
          "output_type": "stream",
          "name": "stdout",
          "text": [
            "1. Array ranging from 10 to 49:\n",
            " [10 11 12 13 14 15 16 17 18 19 20 21 22 23 24 25 26 27 28 29 30 31 32 33\n",
            " 34 35 36 37 38 39 40 41 42 43 44 45 46 47 48 49]\n",
            "\n",
            "2. 3x3 Matrix (values from 0 to 8):\n",
            " [[0 1 2]\n",
            " [3 4 5]\n",
            " [6 7 8]]\n",
            "\n",
            "3. 3x3 Identity Matrix:\n",
            " [[1. 0. 0.]\n",
            " [0. 1. 0.]\n",
            " [0. 0. 1.]]\n",
            "\n",
            "4. Random Array (size 30):\n",
            " [0.50884119 0.66893778 0.0021739  0.33957855 0.41243947 0.8600198\n",
            " 0.74497938 0.33808646 0.04334908 0.06619848 0.73581708 0.16918221\n",
            " 0.94880979 0.0641098  0.07732786 0.46170225 0.69788932 0.79233859\n",
            " 0.93224505 0.7313383  0.96609481 0.59924294 0.23396794 0.26042083\n",
            " 0.3820124  0.35285605 0.22940041 0.69351445 0.17926242 0.32388621]\n",
            "Mean of the array: 0.46053409334687045\n",
            "\n",
            "5. 10x10 Random Array:\n",
            " [[0.54665455 0.03747451 0.16493594 0.2843532  0.8622643  0.61593669\n",
            "  0.14471132 0.01131226 0.58140059 0.61573672]\n",
            " [0.46122165 0.04848443 0.77303975 0.91368091 0.02007091 0.27745487\n",
            "  0.67890308 0.64878377 0.47660543 0.41811411]\n",
            " [0.85073895 0.85734739 0.99913596 0.2136049  0.59031198 0.13568588\n",
            "  0.95522567 0.18585685 0.6009927  0.13446923]\n",
            " [0.91999109 0.25066015 0.51971614 0.33088629 0.16582298 0.30220418\n",
            "  0.59513028 0.75145425 0.91498406 0.59109752]\n",
            " [0.78874029 0.16938299 0.85173592 0.0018145  0.24313487 0.9488376\n",
            "  0.73927615 0.0193049  0.16786871 0.19230378]\n",
            " [0.96934547 0.17053168 0.07373831 0.21081899 0.63660782 0.40910503\n",
            "  0.54739197 0.87043509 0.41985487 0.14937077]\n",
            " [0.68551009 0.73788277 0.75588501 0.13618035 0.2441213  0.35386979\n",
            "  0.33526505 0.70286994 0.33781626 0.19214468]\n",
            " [0.790323   0.72476549 0.48428628 0.16437109 0.87070885 0.21882779\n",
            "  0.69073073 0.55759329 0.7112342  0.52277201]\n",
            " [0.80551985 0.21940071 0.51119879 0.39768639 0.31253063 0.77516252\n",
            "  0.3881436  0.44301472 0.55733435 0.88928089]\n",
            " [0.93247504 0.10729014 0.28306401 0.95916778 0.94819479 0.18285899\n",
            "  0.47334374 0.18574174 0.5483858  0.49544686]]\n",
            "Minimum value: 0.0018144972927687242\n",
            "Maximum value: 0.9991359591235487\n",
            "\n",
            "6. Zero Array with 5th element replaced by 1:\n",
            " [0. 0. 0. 0. 1. 0. 0. 0. 0. 0.]\n",
            "\n",
            "7. Reversed Array:\n",
            " [0 4 0 0 2 1]\n",
            "\n",
            "8. 2D Array with 1 on border and 0 inside:\n",
            " [[1. 1. 1. 1. 1.]\n",
            " [1. 0. 0. 0. 1.]\n",
            " [1. 0. 0. 0. 1.]\n",
            " [1. 0. 0. 0. 1.]\n",
            " [1. 1. 1. 1. 1.]]\n",
            "\n",
            "9. 8x8 Checkerboard Pattern:\n",
            " [[0 1 0 1 0 1 0 1]\n",
            " [1 0 1 0 1 0 1 0]\n",
            " [0 1 0 1 0 1 0 1]\n",
            " [1 0 1 0 1 0 1 0]\n",
            " [0 1 0 1 0 1 0 1]\n",
            " [1 0 1 0 1 0 1 0]\n",
            " [0 1 0 1 0 1 0 1]\n",
            " [1 0 1 0 1 0 1 0]]\n"
          ]
        }
      ]
    },
    {
      "cell_type": "markdown",
      "source": [
        "Problem - 3: Array Operations:\n",
        "\n",
        "For the following arrays:\n",
        "\n",
        "x = np.array([[1,2],[3,5]]) and y = np.array([[5,6],[7,8]]);\n",
        "\n",
        "v = np.array([9,10]) and w = np.array([11,12]);\n",
        "\n",
        "Complete all the task using numpy:\n",
        "1. Add the two array.\n",
        "2. Subtract the two array.\n",
        "3. Multiply the array with any integers of your choice.\n",
        "4. Find the square of each element of the array.\n",
        "5. Find the dot product between: v(and)w ; x(and)v ; x(and)y.\n",
        "6. Concatenate x(and)y along row and Concatenate v(and)w along column.\n",
        "{Hint:try np.concatenate() or np.vstack() functions.\n",
        "7. Concatenate x(and)v; if you get an error, observe and explain why did you get the error?"
      ],
      "metadata": {
        "id": "HQ8OIFMUhPQi"
      }
    },
    {
      "cell_type": "code",
      "source": [
        "import numpy as np\n",
        "\n",
        "# Given arrays\n",
        "x = np.array([[1, 2], [3, 5]])\n",
        "y = np.array([[5, 6], [7, 8]])\n",
        "v = np.array([9, 10])\n",
        "w = np.array([11, 12])\n",
        "\n",
        "# 1.\n",
        "array_sum = x + y\n",
        "print(\"1. \")\n",
        "print(\"Array Addition (x + y):\\n\", array_sum)\n",
        "\n",
        "# 2.\n",
        "array_diff = x - y\n",
        "print(\"\\n2.\")\n",
        "print(\"\\nArray Subtraction (x - y):\\n\", array_diff)\n",
        "\n",
        "# 3.\n",
        "integer = 3\n",
        "array_mul = x * integer\n",
        "print(\"\\n3. \")\n",
        "print(\"\\nArray Multiplication (x * 3):\\n\", array_mul)\n",
        "\n",
        "# 4.\n",
        "array_square = np.square(x)\n",
        "print(\"\\n4. \")\n",
        "print(\"\\nSquare of elements in array x:\\n\", array_square)\n",
        "\n",
        "# 5.\n",
        "dot_vw = np.dot(v, w)\n",
        "print(\"\\n5. \")\n",
        "print(\"\\nDot product of v and w:\", dot_vw)\n",
        "\n",
        "dot_xv = np.dot(x, v)\n",
        "print(\"Dot product of x and v:\\n\", dot_xv)\n",
        "\n",
        "dot_xy = np.dot(x, y)\n",
        "print(\"Dot product of x and y:\\n\", dot_xy)\n",
        "\n",
        "# 6.\n",
        "concat_xy = np.concatenate((x, y), axis=0)\n",
        "print(\"\\n6. \")\n",
        "print(\"\\nConcatenation of x and y along rows:\\n\", concat_xy)\n",
        "\n",
        "concat_vw = np.column_stack((v, w))\n",
        "print(\"\\nConcatenation of v and w along columns:\\n\", concat_vw)\n",
        "\n",
        "# 7.\n",
        "try:\n",
        "    concat_xv = np.concatenate((x, v), axis=0)\n",
        "    print(\"\\nConcatenation of x and v along rows:\\n\", concat_xv)\n",
        "except ValueError as e:\n",
        "    print(\"\\nError in concatenation of x and v:\\n\", e)\n"
      ],
      "metadata": {
        "colab": {
          "base_uri": "https://localhost:8080/"
        },
        "id": "_Wh4tGhJhXwy",
        "outputId": "bbf52f82-a57a-439e-f3d7-30b9f2430114"
      },
      "execution_count": 6,
      "outputs": [
        {
          "output_type": "stream",
          "name": "stdout",
          "text": [
            "1. \n",
            "Array Addition (x + y):\n",
            " [[ 6  8]\n",
            " [10 13]]\n",
            "\n",
            "2.\n",
            "\n",
            "Array Subtraction (x - y):\n",
            " [[-4 -4]\n",
            " [-4 -3]]\n",
            "\n",
            "3. \n",
            "\n",
            "Array Multiplication (x * 3):\n",
            " [[ 3  6]\n",
            " [ 9 15]]\n",
            "\n",
            "4. \n",
            "\n",
            "Square of elements in array x:\n",
            " [[ 1  4]\n",
            " [ 9 25]]\n",
            "\n",
            "5. \n",
            "\n",
            "Dot product of v and w: 219\n",
            "Dot product of x and v:\n",
            " [29 77]\n",
            "Dot product of x and y:\n",
            " [[19 22]\n",
            " [50 58]]\n",
            "\n",
            "6. \n",
            "\n",
            "Concatenation of x and y along rows:\n",
            " [[1 2]\n",
            " [3 5]\n",
            " [5 6]\n",
            " [7 8]]\n",
            "\n",
            "Concatenation of v and w along columns:\n",
            " [[ 9 11]\n",
            " [10 12]]\n",
            "\n",
            "Error in concatenation of x and v:\n",
            " all the input arrays must have same number of dimensions, but the array at index 0 has 2 dimension(s) and the array at index 1 has 1 dimension(s)\n"
          ]
        }
      ]
    },
    {
      "cell_type": "markdown",
      "source": [
        "Problem - 4: Matrix Operations:\n",
        "• For the following arrays:\n",
        "A = np.array([[3,4],[7,8]]) and B = np.array([[5,3],[2,1]]);\n",
        "Prove following with Numpy:\n",
        "1. Prove A.A−1 = I.\n",
        "2. Prove AB ̸= BA.\n",
        "3. Prove (AB)\n",
        "\n",
        "T = BTAT\n",
        ".\n",
        "\n",
        "• Solve the following system of Linear equation using Inverse Methods.\n",
        "\n",
        "2x − 3y + z = −1\n",
        "x − y + 2z = −3\n",
        "3x + y − z = 9\n",
        "\n",
        "{Hint: First use Numpy array to represent the equation in Matrix form. Then Solve for: AX = B}\n",
        "• Now: solve the above equation using np.linalg.inv function.{Explore more about ”linalg” function\n",
        "of Numpy}"
      ],
      "metadata": {
        "id": "IYf4SIlemyGP"
      }
    },
    {
      "cell_type": "code",
      "source": [
        "import numpy as np\n",
        "\n",
        "# Given Matrices\n",
        "A = np.array([[3, 4], [7, 8]])\n",
        "B = np.array([[5, 3], [2, 1]])\n",
        "\n",
        "# 1. Prove A.A⁻¹ = I\n",
        "A_inv = np.linalg.inv(A)\n",
        "identity_matrix = np.dot(A, A_inv)\n",
        "print(\"A.A⁻¹ = I:\\n\", identity_matrix)\n",
        "\n",
        "# Round to eliminate numerical precision errors\n",
        "identity_matrix_rounded = np.round(identity_matrix, decimals=10)\n",
        "print(\"\\nRounded Identity Matrix:\\n\", identity_matrix_rounded)\n",
        "\n",
        "# 2. Prove AB ≠ BA\n",
        "AB = np.dot(A, B)\n",
        "BA = np.dot(B, A)\n",
        "print(\"\\nAB:\\n\", AB)\n",
        "print(\"\\nBA:\\n\", BA)\n",
        "print(\"\\nAB ≠ BA:\", not np.array_equal(AB, BA))\n",
        "\n",
        "# 3. Prove (AB)ᵀ = BᵀAᵀ\n",
        "AB_transpose = np.transpose(AB)\n",
        "BT_AT = np.dot(B.T, A.T)\n",
        "print(\"\\n(AB)ᵀ:\\n\", AB_transpose)\n",
        "print(\"\\nBᵀAᵀ:\\n\", BT_AT)\n",
        "print(\"\\n(AB)ᵀ == BᵀAᵀ:\", np.array_equal(AB_transpose, BT_AT))\n"
      ],
      "metadata": {
        "colab": {
          "base_uri": "https://localhost:8080/"
        },
        "id": "kMKz8pP_nYi1",
        "outputId": "cd68d988-eed3-448b-b720-eeb78535da60"
      },
      "execution_count": 7,
      "outputs": [
        {
          "output_type": "stream",
          "name": "stdout",
          "text": [
            "A.A⁻¹ = I:\n",
            " [[1.00000000e+00 0.00000000e+00]\n",
            " [1.77635684e-15 1.00000000e+00]]\n",
            "\n",
            "Rounded Identity Matrix:\n",
            " [[1. 0.]\n",
            " [0. 1.]]\n",
            "\n",
            "AB:\n",
            " [[23 13]\n",
            " [51 29]]\n",
            "\n",
            "BA:\n",
            " [[36 44]\n",
            " [13 16]]\n",
            "\n",
            "AB ≠ BA: True\n",
            "\n",
            "(AB)ᵀ:\n",
            " [[23 51]\n",
            " [13 29]]\n",
            "\n",
            "BᵀAᵀ:\n",
            " [[23 51]\n",
            " [13 29]]\n",
            "\n",
            "(AB)ᵀ == BᵀAᵀ: True\n"
          ]
        }
      ]
    },
    {
      "cell_type": "markdown",
      "source": [
        "4.2 Experiment: How Fast is Numpy?\n",
        "In this exercise, you will compare the performance and implementation of operations using plain Python\n",
        "lists (arrays) and NumPy arrays. Follow the instructions:\n",
        "1. Element-wise Addition:\n",
        "• Using Python Lists, perform element-wise addition of two lists of size 1, 000, 000. Measure\n",
        "and Print the time taken for this operation.\n",
        "• Using Numpy Arrays, Repeat the calculation and measure and print the time taken for this\n",
        "operation."
      ],
      "metadata": {
        "id": "p44ZiAuQot2j"
      }
    },
    {
      "cell_type": "code",
      "source": [
        "import numpy as np\n",
        "import time\n",
        "\n",
        "# Helper function to measure execution time\n",
        "def measure_time(func, *args):\n",
        "    start = time.time()\n",
        "    result = func(*args)\n",
        "    end = time.time()\n",
        "    return result, end - start\n",
        "\n",
        "# 1. Element-wise Addition\n",
        "# Python lists\n",
        "size = 1_000_000\n",
        "list1 = list(range(size))\n",
        "list2 = list(range(size))\n",
        "\n",
        "def python_addition(a, b):\n",
        "    return [a[i] + b[i] for i in range(len(a))]\n",
        "\n",
        "_, python_add_time = measure_time(python_addition, list1, list2)\n",
        "print(f\"Python List Addition Time: {python_add_time:.5f} seconds\")\n",
        "\n",
        "# NumPy arrays\n",
        "array1 = np.arange(size)\n",
        "array2 = np.arange(size)\n",
        "\n",
        "def numpy_addition(a, b):\n",
        "    return a + b\n",
        "\n",
        "_, numpy_add_time = measure_time(numpy_addition, array1, array2)\n",
        "print(f\"NumPy Array Addition Time: {numpy_add_time:.5f} seconds\")"
      ],
      "metadata": {
        "id": "WTYd5kf0opkt"
      },
      "execution_count": null,
      "outputs": []
    },
    {
      "cell_type": "markdown",
      "source": [
        "2. Element-wise Multiplication\n",
        "\n",
        "• Using Python Lists, perform element-wise multiplication of two lists of size 1, 000, 000. Mea-\n",
        "sure and Print the time taken for this operation.\n",
        "\n",
        "• Using Numpy Arrays, Repeat the calculation and measure and print the time taken for this\n",
        "operation."
      ],
      "metadata": {
        "id": "SUItM9fWo0Yz"
      }
    },
    {
      "cell_type": "code",
      "source": [
        "import numpy as np\n",
        "import time\n",
        "\n",
        "def measure_time(func, *args):\n",
        "    start = time.time()\n",
        "    result = func(*args)\n",
        "    end = time.time()\n",
        "    return result, end - start\n",
        "\n",
        "size = 1_000_000\n",
        "list1 = list(range(size))\n",
        "list2 = list(range(size))\n",
        "\n",
        "array1 = np.arange(size)\n",
        "array2 = np.arange(size)\n",
        "\n",
        "# Python list multiplication\n",
        "def python_multiplication(a, b):\n",
        "    return [a[i] * b[i] for i in range(len(a))]\n",
        "\n",
        "_, python_mul_time = measure_time(python_multiplication, list1, list2)\n",
        "print(f\"Python List Multiplication Time: {python_mul_time:.5f} seconds\")\n",
        "\n",
        "# NumPy array multiplication\n",
        "def numpy_multiplication(a, b):\n",
        "    return a * b\n",
        "\n",
        "_, numpy_mul_time = measure_time(numpy_multiplication, array1, array2)\n",
        "print(f\"NumPy Array Multiplication Time: {numpy_mul_time:.5f} seconds\")\n"
      ],
      "metadata": {
        "colab": {
          "base_uri": "https://localhost:8080/"
        },
        "id": "4Qcx8no0o4gI",
        "outputId": "be2ddec0-ca30-4ab1-b06a-c9e3567b83c3"
      },
      "execution_count": 9,
      "outputs": [
        {
          "output_type": "stream",
          "name": "stdout",
          "text": [
            "Python List Multiplication Time: 0.13081 seconds\n",
            "NumPy Array Multiplication Time: 0.00548 seconds\n"
          ]
        }
      ]
    },
    {
      "cell_type": "markdown",
      "source": [
        "3. Dot Product\n",
        "\n",
        "• Using Python Lists, compute the dot product of two lists of size 1, 000, 000. Measure and\n",
        "Print the time taken for this operation.\n",
        "• Using Numpy Arrays, Repeat the calculation and measure and print the time taken for this\n",
        "operation."
      ],
      "metadata": {
        "id": "l3dX4b7zpdjS"
      }
    },
    {
      "cell_type": "code",
      "source": [
        "import numpy as np\n",
        "import time\n",
        "def python_dot_product(a, b):\n",
        "    return sum(a[i] * b[i] for i in range(len(a)))\n",
        "\n",
        "_, python_dot_time = measure_time(python_dot_product, list1, list2)\n",
        "print(f\"Python List Dot Product Time: {python_dot_time:.5f} seconds\")\n",
        "\n",
        "# NumPy arrays\n",
        "def numpy_dot_product(a, b):\n",
        "    return np.dot(a, b)\n",
        "\n",
        "_, numpy_dot_time = measure_time(numpy_dot_product, array1, array2)\n",
        "print(f\"NumPy Array Dot Product Time: {numpy_dot_time:.5f} seconds\")"
      ],
      "metadata": {
        "colab": {
          "base_uri": "https://localhost:8080/"
        },
        "id": "CaX9LBIZpjXb",
        "outputId": "6c1ac6bc-34ee-4944-adb9-73d693ff48f4"
      },
      "execution_count": 10,
      "outputs": [
        {
          "output_type": "stream",
          "name": "stdout",
          "text": [
            "Python List Dot Product Time: 0.15475 seconds\n",
            "NumPy Array Dot Product Time: 0.00193 seconds\n"
          ]
        }
      ]
    },
    {
      "cell_type": "markdown",
      "source": [
        "4. Matrix Multiplication\n",
        "\n",
        "• Using Python lists, perform matrix multiplication of two matrices of size 1000x1000. Measure\n",
        "and print the time taken for this operation.\n",
        "\n",
        "• Using NumPy arrays, perform matrix multiplication of two matrices of size 1000x1000. Mea-\n",
        "sure and print the time taken for this operation."
      ],
      "metadata": {
        "id": "udc9I_-NpzcA"
      }
    },
    {
      "cell_type": "code",
      "source": [
        "import numpy as np\n",
        "import time\n",
        "\n",
        "def measure_time(func, *args):\n",
        "    start = time.time()\n",
        "    result = func(*args)\n",
        "    end = time.time()\n",
        "    return result, end - start\n",
        "\n",
        "size = 1_000_000\n",
        "list1 = list(range(size))\n",
        "list2 = list(range(size))\n",
        "\n",
        "array1 = np.arange(size)\n",
        "array2 = np.arange(size)\n",
        "\n",
        "# Python list multiplication\n",
        "def python_multiplication(a, b):\n",
        "    return [a[i] * b[i] for i in range(len(a))]\n",
        "\n",
        "_, python_mul_time = measure_time(python_multiplication, list1, list2)\n",
        "print(f\"Python List Multiplication Time: {python_mul_time:.5f} seconds\")\n",
        "\n",
        "# NumPy array multiplication\n",
        "def numpy_multiplication(a, b):\n",
        "    return a * b\n",
        "\n",
        "_, numpy_mul_time = measure_time(numpy_multiplication, array1, array2)\n",
        "print(f\"NumPy Array Multiplication Time: {numpy_mul_time:.5f} seconds\")\n"
      ],
      "metadata": {
        "colab": {
          "base_uri": "https://localhost:8080/"
        },
        "id": "epE2ulgQp340",
        "outputId": "607e7e92-00b7-408d-f36a-272fca4059f5"
      },
      "execution_count": 12,
      "outputs": [
        {
          "output_type": "stream",
          "name": "stdout",
          "text": [
            "Python List Multiplication Time: 0.22745 seconds\n",
            "NumPy Array Multiplication Time: 0.00473 seconds\n"
          ]
        }
      ]
    }
  ]
}
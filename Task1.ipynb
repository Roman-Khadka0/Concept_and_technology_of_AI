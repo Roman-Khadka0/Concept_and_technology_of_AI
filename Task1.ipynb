{
 "cells": [
  {
   "cell_type": "code",
   "execution_count": 2,
   "id": "f703744c-33ab-4d64-b726-1eed52fb46b3",
   "metadata": {},
   "outputs": [
    {
     "name": "stdout",
     "output_type": "stream",
     "text": [
      "Classified Temperatures:\n",
      "Cold (below 10°C): [8.2, 7.9, 9.0, 8.5, 7.7, 8.4, 9.5, 8.1, 7.6, 8.0, 7.8, 8.7, 9.2, 8.3, 8.9, 7.8]\n",
      "Mild (10°C to 15°C): [14.1, 13.5, 13.0, 12.9, 13.3, 14.0, 13.4, 14.2, 12.8, 13.7, 13.6, 13.8, 13.9, 12.7, 13.1, 12.5]\n",
      "Comfortable (15°C to 20°C): [17.4, 18.0, 17.8, 16.5, 17.2, 16.7, 18.3, 17.9, 17.0, 16.8, 17.5, 17.1, 18.1, 16.4, 18.2, 16.6]\n",
      "\n",
      "Summary:\n",
      "Number of Cold days: 16\n",
      "Number of Mild days: 16\n",
      "Number of Comfortable days: 16\n"
     ]
    }
   ],
   "source": [
    " #List of temperature readings from Tribhuwan International Airport\n",
    "temperatures = [\n",
    "    8.2, 17.4, 14.1, 7.9, 18.0, 13.5, 9.0, 17.8, 13.0, 8.5,\n",
    "    16.5, 12.9, 7.7, 17.2, 13.3, 8.4, 16.7, 14.0, 9.5, 18.3,\n",
    "    13.4, 8.1, 17.9, 14.2, 7.6, 17.0, 12.8, 8.0, 16.8, 13.7,\n",
    "    7.8, 17.5, 13.6, 8.7, 17.1, 13.8, 9.2, 18.1, 13.9, 8.3,\n",
    "    16.4, 12.7, 8.9, 18.2, 13.1, 7.8, 16.6, 12.5\n",
    "]\n",
    "\n",
    "# Task 1: Classify Temperatures\n",
    "cold = []  # Below 10°C\n",
    "mild = []  # Between 10°C and 15°C\n",
    "comfortable = []  # Between 15°C and 20°C\n",
    "\n",
    "# Classify temperatures into categories\n",
    "for temp in temperatures:\n",
    "    if temp < 10:\n",
    "        cold.append(temp)\n",
    "    elif 10 <= temp < 15:\n",
    "        mild.append(temp)\n",
    "    elif 15 <= temp <= 20:\n",
    "        comfortable.append(temp)\n",
    "\n",
    "# Task 2. Based on Data: Count occurrences in each category\n",
    "num_cold = len(cold)\n",
    "num_mild = len(mild)\n",
    "num_comfortable = len(comfortable)\n",
    "\n",
    "# Print the results\n",
    "print(\"Classified Temperatures:\")\n",
    "print(\"Cold (below 10°C):\", cold)\n",
    "print(\"Mild (10°C to 15°C):\", mild)\n",
    "print(\"Comfortable (15°C to 20°C):\", comfortable)\n",
    "\n",
    "print(\"\\nSummary:\")\n",
    "print(f\"Number of Cold days: {num_cold}\")\n",
    "print(f\"Number of Mild days: {num_mild}\")\n",
    "print(f\"Number of Comfortable days: {num_comfortable}\")"
   ]
  },
  {
   "cell_type": "code",
   "execution_count": 3,
   "id": "bd5dc03c-ba6e-490a-9e34-079090f2425b",
   "metadata": {},
   "outputs": [
    {
     "name": "stdout",
     "output_type": "stream",
     "text": [
      "Temperatures in Fahrenheit:\n",
      "[46.76, 63.32, 57.379999999999995, 46.22, 64.4, 56.3, 48.2, 64.04, 55.4, 47.3, 61.7, 55.22, 45.86, 62.959999999999994, 55.94, 47.120000000000005, 62.059999999999995, 57.2, 49.1, 64.94, 56.120000000000005, 46.58, 64.22, 57.56, 45.68, 62.6, 55.04, 46.4, 62.24, 56.66, 46.04, 63.5, 56.48, 47.66, 62.78, 56.84, 48.56, 64.58, 57.02, 46.94, 61.519999999999996, 54.86, 48.02, 64.75999999999999, 55.58, 46.04, 61.88, 54.5]\n"
     ]
    }
   ],
   "source": [
    "# Task 3: Convert Temperatures from Celsius to Fahrenheit\n",
    "# List of temperature readings from Tribhuwan International Airport\n",
    "temperatures = [\n",
    "    8.2, 17.4, 14.1, 7.9, 18.0, 13.5, 9.0, 17.8, 13.0, 8.5,\n",
    "    16.5, 12.9, 7.7, 17.2, 13.3, 8.4, 16.7, 14.0, 9.5, 18.3,\n",
    "    13.4, 8.1, 17.9, 14.2, 7.6, 17.0, 12.8, 8.0, 16.8, 13.7,\n",
    "    7.8, 17.5, 13.6, 8.7, 17.1, 13.8, 9.2, 18.1, 13.9, 8.3,\n",
    "    16.4, 12.7, 8.9, 18.2, 13.1, 7.8, 16.6, 12.5\n",
    "]\n",
    "temperatures_fahrenheit = []\n",
    "for temp in temperatures:\n",
    "    fahrenheit = (temp * 9 / 5) + 32\n",
    "    temperatures_fahrenheit.append(fahrenheit)\n",
    "\n",
    "# Print the converted Fahrenheit values\n",
    "print(\"Temperatures in Fahrenheit:\")\n",
    "print(temperatures_fahrenheit)"
   ]
  },
  {
   "cell_type": "code",
   "execution_count": 4,
   "id": "3f479654-446e-4e99-9d09-e326b9f6128f",
   "metadata": {},
   "outputs": [
    {
     "name": "stdout",
     "output_type": "stream",
     "text": [
      "\n",
      "Temperature Patterns by Time of Day:\n",
      "Night Temperatures (00-08): [8.2, 7.9, 9.0, 8.5, 7.7, 8.4, 9.5, 8.1, 7.6, 8.0, 7.8, 8.7, 9.2, 8.3, 8.9, 7.8]\n",
      "Evening Temperatures (08-16): [17.4, 18.0, 17.8, 16.5, 17.2, 16.7, 18.3, 17.9, 17.0, 16.8, 17.5, 17.1, 18.1, 16.4, 18.2, 16.6]\n",
      "Day Temperatures (16-24): [14.1, 13.5, 13.0, 12.9, 13.3, 14.0, 13.4, 14.2, 12.8, 13.7, 13.6, 13.8, 13.9, 12.7, 13.1, 12.5]\n",
      "\n",
      "Average Day-Time Temperature: 13.41°C\n"
     ]
    }
   ],
   "source": [
    "# Task 4: Analyze Temperature Patterns by Time of Day\n",
    "night_temps = []   # 00-08\n",
    "evening_temps = [] # 08-16\n",
    "day_temps = []     # 16-24\n",
    "\n",
    "# Group temperatures by time of day\n",
    "for i, temp in enumerate(temperatures):\n",
    "    if i % 3 == 0:  # Night\n",
    "        night_temps.append(temp)\n",
    "    elif i % 3 == 1:  # Evening\n",
    "        evening_temps.append(temp)\n",
    "    else:  # Day\n",
    "        day_temps.append(temp)\n",
    "\n",
    "# Calculate the average day-time temperature\n",
    "average_day_temp = sum(day_temps) / len(day_temps) if day_temps else 0\n",
    "\n",
    "# Print Results\n",
    "print(\"\\nTemperature Patterns by Time of Day:\")\n",
    "print(\"Night Temperatures (00-08):\", night_temps)\n",
    "print(\"Evening Temperatures (08-16):\", evening_temps)\n",
    "print(\"Day Temperatures (16-24):\", day_temps)\n",
    "print(f\"\\nAverage Day-Time Temperature: {average_day_temp:.2f}°C\")"
   ]
  },
  {
   "cell_type": "code",
   "execution_count": 6,
   "id": "62c3bda7-d96c-4710-9060-6a1db6149167",
   "metadata": {},
   "outputs": [
    {
     "name": "stdout",
     "output_type": "stream",
     "text": [
      "Sum of nested_list_1: 36\n",
      "Sum of nested_list_2: 15\n"
     ]
    }
   ],
   "source": [
    "# Exercise - Recursion:\n",
    "#Task 1 - Sum of Nested Lists:\n",
    "def sum_nested_list(nested_list):\n",
    "   \n",
    "    total = 0\n",
    "    for element in nested_list:\n",
    "        if isinstance(element, list):  \n",
    "            total += sum_nested_list(element)\n",
    "        else:\n",
    "            total += element \n",
    "    return total\n",
    "\n",
    "# Test the function with sample nested lists\n",
    "nested_list_1 = [1, [2, [3, 4], 5], 6, [7, 8]]\n",
    "nested_list_2 = [1, [2, 3], [4, [5]]]\n",
    "\n",
    "print(\"Sum of nested_list_1:\", sum_nested_list(nested_list_1))  \n",
    "print(\"Sum of nested_list_2:\", sum_nested_list(nested_list_2))  \n"
   ]
  },
  {
   "cell_type": "code",
   "execution_count": 8,
   "id": "9973dbd6-9b02-484a-a60b-d08a3f509386",
   "metadata": {},
   "outputs": [
    {
     "name": "stdout",
     "output_type": "stream",
     "text": [
      "Permutations of 'abc': ['abc', 'acb', 'bac', 'bca', 'cab', 'cba']\n",
      "Permutations of 'aab': ['aab', 'aba', 'baa']\n"
     ]
    }
   ],
   "source": [
    "#Task 2 - Generate All Permutations of a String:\n",
    "def generate_permutations(s):\n",
    "    def backtrack(path, remaining, results):\n",
    "        if not remaining:  \n",
    "            results.add(\"\".join(path))  \n",
    "        for i in range(len(remaining)):\n",
    "            \n",
    "            backtrack(path + [remaining[i]], remaining[:i] + remaining[i+1:], results)\n",
    "\n",
    "    results = set()  \n",
    "    backtrack([], list(s), results)\n",
    "    return sorted(results)  \n",
    "\n",
    "print(\"Permutations of 'abc':\", generate_permutations(\"abc\")) \n",
    "print(\"Permutations of 'aab':\", generate_permutations(\"aab\"))  \n",
    "\n"
   ]
  },
  {
   "cell_type": "code",
   "execution_count": 10,
   "id": "1db692ba-03ae-41eb-83d7-b07e1e59004d",
   "metadata": {},
   "outputs": [
    {
     "name": "stdout",
     "output_type": "stream",
     "text": [
      "Total Directory Size: 1400 KB\n"
     ]
    }
   ],
   "source": [
    "#Task 3 - Directory Size Calculation:\n",
    "def calculate_directory_size(directory):\n",
    "   \n",
    "    total_size = 0\n",
    "    for key, value in directory.items():\n",
    "        if isinstance(value, dict):  # If the value is a dictionary, it's a subdirectory\n",
    "            total_size += calculate_directory_size(value)  # Recursively calculate its size\n",
    "        else:\n",
    "            total_size += value  # If it's an integer, it's a file size\n",
    "    return total_size\n",
    "    # Sample directory structure\n",
    "directory_structure = {\n",
    "    \"file1.txt\": 200,\n",
    "    \"file2.txt\": 300,\n",
    "    \"subdir1\": {\n",
    "        \"file3.txt\": 400,\n",
    "        \"file4.txt\": 100\n",
    "    },\n",
    "    \"subdir2\": {\n",
    "        \"subsubdir1\": {\n",
    "            \"file5.txt\": 250\n",
    "        },\n",
    "        \"file6.txt\": 150\n",
    "    }\n",
    "}\n",
    "\n",
    "# Calculate the total size of the directory\n",
    "total_size = calculate_directory_size(directory_structure)\n",
    "print(\"Total Directory Size:\", total_size, \"KB\")\n"
   ]
  },
  {
   "cell_type": "code",
   "execution_count": 11,
   "id": "da4f2448-f434-4f1c-a093-70964269cb30",
   "metadata": {},
   "outputs": [
    {
     "name": "stdout",
     "output_type": "stream",
     "text": [
      "Minimum coins for amount 11 with coins [1, 2, 5]: 3\n",
      "Minimum coins for amount 3 with coins [2]: -1\n"
     ]
    }
   ],
   "source": [
    "#8.2.2 Exercises - Dynamic Programming:\n",
    "#Task 1 - Coin Change Problem:\n",
    "def min_coins(coins, amount):\n",
    "    dp = [float('inf')] * (amount + 1)\n",
    "    dp[0] = 0\n",
    "\n",
    "    for coin in coins:\n",
    "        for i in range(coin, amount + 1):\n",
    "            dp[i] = min(dp[i], dp[i - coin] + 1)\n",
    "\n",
    "    return dp[amount] if dp[amount] != float('inf') else -1\n",
    "\n",
    "# Test cases\n",
    "coins_1 = [1, 2, 5]\n",
    "amount_1 = 11\n",
    "coins_2 = [2]\n",
    "amount_2 = 3\n",
    "\n",
    "print(\"Minimum coins for amount 11 with coins [1, 2, 5]:\", min_coins(coins_1, amount_1))  # Expected: 3\n",
    "print(\"Minimum coins for amount 3 with coins [2]:\", min_coins(coins_2, amount_2))  # Expected: -1\n"
   ]
  },
  {
   "cell_type": "code",
   "execution_count": 12,
   "id": "12e40e46-b50f-4e52-b9ff-b2babf3ebd1a",
   "metadata": {},
   "outputs": [
    {
     "name": "stdout",
     "output_type": "stream",
     "text": [
      "Length of LCS between 'abcde' and 'ace': 3\n"
     ]
    }
   ],
   "source": [
    "#Task 2 - Longest Common Subsequence (LCS):\n",
    "def longest_common_subsequence(s1, s2):\n",
    "\n",
    "    m, n = len(s1), len(s2)\n",
    "    dp = [[0] * (n + 1) for _ in range(m + 1)]\n",
    "\n",
    "    for i in range(1, m + 1):\n",
    "        for j in range(1, n + 1):\n",
    "            if s1[i - 1] == s2[j - 1]: \n",
    "                dp[i][j] = dp[i - 1][j - 1] + 1\n",
    "            else:\n",
    "                dp[i][j] = max(dp[i - 1][j], dp[i][j - 1])\n",
    "\n",
    "    return dp[m][n]\n",
    "\n",
    "# Test cases\n",
    "s1 = \"abcde\"\n",
    "s2 = \"ace\"\n",
    "print(\"Length of LCS between 'abcde' and 'ace':\", longest_common_subsequence(s1, s2))  \n"
   ]
  },
  {
   "cell_type": "code",
   "execution_count": 13,
   "id": "a68c1ee7-1844-4ccd-b999-f7649c3bb4bd",
   "metadata": {},
   "outputs": [
    {
     "name": "stdout",
     "output_type": "stream",
     "text": [
      "Maximum value that can be achieved: 9\n"
     ]
    }
   ],
   "source": [
    "#Task 3 - 0/1 Knapsack Problem:\n",
    "def knapsack(weights, values, capacity):\n",
    "    n = len(weights)\n",
    "    dp = [[0 for _ in range(capacity + 1)] for _ in range(n + 1)]\n",
    "    for i in range(1, n + 1):\n",
    "        for w in range(1, capacity + 1):\n",
    "            if weights[i - 1] <= w:\n",
    "                dp[i][w] = max(dp[i - 1][w], dp[i - 1][w - weights[i - 1]] + values[i - 1])\n",
    "            else:\n",
    "                dp[i][w] = dp[i - 1][w]\n",
    "    return dp[n][capacity]\n",
    "# Test cases\n",
    "weights = [1, 3, 4, 5]\n",
    "values = [1, 4, 5, 7]\n",
    "capacity = 7\n",
    "\n",
    "result = knapsack(weights, values, capacity)\n",
    "print(\"Maximum value that can be achieved:\", result)\n"
   ]
  },
  {
   "cell_type": "code",
   "execution_count": 1,
   "id": "4fe57e72-5910-4d0d-b893-3bc833b71824",
   "metadata": {},
   "outputs": [
    {
     "name": "stdout",
     "output_type": "stream",
     "text": [
      "Positive\n"
     ]
    }
   ],
   "source": [
    "num = 10\n",
    "if num > 0:\n",
    "    print(\"Positive\")\n",
    "elif num == 0:\n",
    "    print(\"Zero\")s\n",
    "else:\n",
    "    print(\"Non-positive\")"
   ]
  },
  {
   "cell_type": "code",
   "execution_count": 2,
   "id": "e5f2d05a-8827-44b0-af33-434f4fa67dd3",
   "metadata": {},
   "outputs": [
    {
     "name": "stdout",
     "output_type": "stream",
     "text": [
      "Both conditions are true\n",
      "At least one condition is true\n",
      "x is not equal to 0\n"
     ]
    }
   ],
   "source": [
    "x = 5\n",
    "y = 10\n",
    "if x > 0 and y < 20:\n",
    "    print(\"Both conditions are true\")\n",
    "if x > 0 or y > 20:\n",
    "    print(\"At least one condition is true\")\n",
    "if not x == 0:\n",
    "    print(\"x is not equal to 0\")\n"
   ]
  },
  {
   "cell_type": "code",
   "execution_count": 1,
   "id": "35989cca-7ae7-44e9-b148-e557d36d155f",
   "metadata": {},
   "outputs": [
    {
     "name": "stdout",
     "output_type": "stream",
     "text": [
      "Either a or b is False\n",
      "At least one of a or b is True\n",
      "a is True\n"
     ]
    }
   ],
   "source": [
    "# Define two boolean variables\n",
    "a = True\n",
    "b = False\n",
    "# Using the ’and’ operator\n",
    "if a and b:\n",
    "    print(\"Both a and b are True\")\n",
    "else:\n",
    "    print(\"Either a or b is False\") # This will be printed\n",
    "# Using the ’or’ operator\n",
    "if a or b:\n",
    "    print(\"At least one of a or b is True\") # This will be printed\n",
    "else:\n",
    "    print(\"Both a and b are False\")\n",
    "# Using the ’not’ operator\n",
    "if not a:\n",
    "    print(\"a is False\") # This will not be printed\n",
    "else:\n",
    "    print(\"a is True\") # This will be printed"
   ]
  },
  {
   "cell_type": "code",
   "execution_count": 2,
   "id": "5a99b652-2b88-47d1-a9c4-9b25e99eeed0",
   "metadata": {},
   "outputs": [
    {
     "name": "stdout",
     "output_type": "stream",
     "text": [
      "apple\n",
      "banana\n",
      "cherry\n",
      "Count is: 0\n",
      "Count is: 1\n",
      "Count is: 2\n",
      "Count is: 3\n",
      "Count is: 4\n",
      "loop 1\n",
      "apple\n",
      "loop 2\n",
      "banana\n",
      "orange\n"
     ]
    }
   ],
   "source": [
    "# For loop\n",
    "fruits = [\"apple\", \"banana\", \"cherry\"]\n",
    "for fruit in fruits:\n",
    "    print(fruit)\n",
    "\n",
    "# While loop\n",
    "count = 0\n",
    "while count < 5:\n",
    "    print(\"Count is:\", count)\n",
    "    count += 1  # This line should be indented to be inside the loop\n",
    "\n",
    "# Break\n",
    "fruits = [\"apple\", \"banana\", \"orange\"]\n",
    "print(\"loop 1\")\n",
    "for fruit in fruits:\n",
    "    print(fruit)\n",
    "    if fruit == \"apple\":\n",
    "        break  # This line should be indented to be inside the loop\n",
    "\n",
    "# Continue\n",
    "print(\"loop 2\")\n",
    "for fruit in fruits:\n",
    "    if fruit == \"apple\":\n",
    "        continue  # This line should be indented to be inside the loop\n",
    "    print(fruit)  # This line should be at the same level as the continue statement\n"
   ]
  },
  {
   "cell_type": "code",
   "execution_count": 3,
   "id": "392dda90-8cb4-4114-8d80-5f824d5034e4",
   "metadata": {},
   "outputs": [
    {
     "name": "stdout",
     "output_type": "stream",
     "text": [
      "Hello, World!\n"
     ]
    }
   ],
   "source": [
    "print(\"Hello, World!\") # Output: Hello, World!\n",
    "length = len(\"Hello\") # Output: 5\n",
    "data_type = type(42) # Output: <class ’int’>\n",
    "total = sum([1, 2, 3]) # Output: 6"
   ]
  },
  {
   "cell_type": "code",
   "execution_count": 4,
   "id": "d882ded5-c2d9-46b8-8e12-4df5d4161763",
   "metadata": {},
   "outputs": [],
   "source": [
    "# str.upper(): Converts all characters in a string to uppercase.\n",
    "message = \"hello\".upper() # Output: \"HELLO\"\n",
    "# list.append(): Adds an element to the end of a list.\n",
    "fruits = [\"apple\", \"banana\"]\n",
    "fruits.append(\"cherry\") # Output: [\"apple\", \"banana\", \"cherry\"]\n",
    "# dict.get(): Returns the value associated with a key in a dictionary.\n",
    "info = {\"name\": \"Alice\", \"age\": 25}\n",
    "age = info.get(\"age\") # Output: 25"
   ]
  },
  {
   "cell_type": "code",
   "execution_count": 7,
   "id": "5e355a95-09d2-47f5-9cb3-3b945b370b4e",
   "metadata": {},
   "outputs": [
    {
     "name": "stdout",
     "output_type": "stream",
     "text": [
      "Choose conversion type:\n",
      "1. Celsius to Fahrenheit\n",
      "2. Fahrenheit to Celsius\n"
     ]
    },
    {
     "name": "stdin",
     "output_type": "stream",
     "text": [
      "Enter 1 or 2:  1\n",
      "Enter temperature in Celsius:  42\n"
     ]
    },
    {
     "name": "stdout",
     "output_type": "stream",
     "text": [
      "42.0C is equal to 107.6F\n"
     ]
    },
    {
     "data": {
      "text/plain": [
       "107.6"
      ]
     },
     "execution_count": 7,
     "metadata": {},
     "output_type": "execute_result"
    }
   ],
   "source": [
    "def temperature_converter():\n",
    "    \n",
    "    print(\"Choose conversion type:\")\n",
    "    print(\"1. Celsius to Fahrenheit\")\n",
    "    print(\"2. Fahrenheit to Celsius\")\n",
    "\n",
    "    # Get conversion choice from user\n",
    "    choice = input(\"Enter 1 or 2: \")\n",
    "\n",
    "    if choice == \"1\":\n",
    "        # Celsius to Fahrenheit conversion\n",
    "        celsius = float(input(\"Enter temperature in Celsius: \"))\n",
    "        fahrenheit = (celsius * 9/5) + 32\n",
    "        print(f\"{celsius}C is equal to {fahrenheit}F\")\n",
    "        return fahrenheit\n",
    "    elif choice == \"2\":\n",
    "        # Fahrenheit to Celsius conversion\n",
    "        fahrenheit = float(input(\"Enter temperature in Fahrenheit: \"))\n",
    "        celsius = (fahrenheit - 32) * 5/9\n",
    "        print(f\"{fahrenheit}F is equal to {celsius}C\")\n",
    "        return celsius\n",
    "    else:\n",
    "        print(\"Invalid choice. Please enter 1 or 2.\")\n",
    "        return None\n",
    "\n",
    "# Call the function\n",
    "temperature_converter()\n"
   ]
  },
  {
   "cell_type": "code",
   "execution_count": 8,
   "id": "389d0104-74bb-46f5-97e7-e393a51bdb11",
   "metadata": {},
   "outputs": [
    {
     "name": "stdin",
     "output_type": "stream",
     "text": [
      "Enter a number:  2\n"
     ]
    },
    {
     "name": "stdout",
     "output_type": "stream",
     "text": [
      "Result: 5.0\n"
     ]
    }
   ],
   "source": [
    "try:\n",
    "    num = int(input(\"Enter a number: \"))\n",
    "    print(\"Result:\", 10 / num)\n",
    "except ZeroDivisionError:\n",
    "    print(\"Cannot divide by zero.\")\n",
    "except ValueError:\n",
    "    print(\"Invalid input. Please enter a number.\")"
   ]
  },
  {
   "cell_type": "code",
   "execution_count": 9,
   "id": "ddd54653-2ed3-41c5-9e80-afe247b6ac7b",
   "metadata": {},
   "outputs": [
    {
     "name": "stdout",
     "output_type": "stream",
     "text": [
      "File not found.\n"
     ]
    },
    {
     "ename": "NameError",
     "evalue": "name 'file' is not defined",
     "output_type": "error",
     "traceback": [
      "\u001b[1;31m---------------------------------------------------------------------------\u001b[0m",
      "\u001b[1;31mNameError\u001b[0m                                 Traceback (most recent call last)",
      "Cell \u001b[1;32mIn[9], line 7\u001b[0m\n\u001b[0;32m      5\u001b[0m     \u001b[38;5;28mprint\u001b[39m(\u001b[38;5;124m\"\u001b[39m\u001b[38;5;124mFile not found.\u001b[39m\u001b[38;5;124m\"\u001b[39m)\n\u001b[0;32m      6\u001b[0m \u001b[38;5;28;01mfinally\u001b[39;00m:\n\u001b[1;32m----> 7\u001b[0m     \u001b[43mfile\u001b[49m\u001b[38;5;241m.\u001b[39mclose() \u001b[38;5;66;03m# Ensures the file is closed\u001b[39;00m\n",
      "\u001b[1;31mNameError\u001b[0m: name 'file' is not defined"
     ]
    }
   ],
   "source": [
    "try:\n",
    "    file = open(\"example.txt\", \"r\")\n",
    "    data = file.read()\n",
    "except FileNotFoundError:\n",
    "    print(\"File not found.\")\n",
    "finally:\n",
    "    file.close() # Ensures the file is closed"
   ]
  },
  {
   "cell_type": "code",
   "execution_count": 10,
   "id": "ce6c407d-d589-46d6-891d-1996052fad6a",
   "metadata": {},
   "outputs": [
    {
     "name": "stdout",
     "output_type": "stream",
     "text": [
      "Age cannot be negative.\n"
     ]
    }
   ],
   "source": [
    "def check_age(age):\n",
    "    if age < 0:\n",
    "        raise ValueError(\"Age cannot be negative.\")\n",
    "    else:\n",
    "        print(\"Valid age\")\n",
    "try:\n",
    "    check_age(-1)\n",
    "except ValueError as e:\n",
    "    print(e)"
   ]
  },
  {
   "cell_type": "code",
   "execution_count": null,
   "id": "7dc973de-fdc5-4787-87a5-1c48ca3320a7",
   "metadata": {},
   "outputs": [],
   "source": []
  }
 ],
 "metadata": {
  "kernelspec": {
   "display_name": "Python 3 (ipykernel)",
   "language": "python",
   "name": "python3"
  },
  "language_info": {
   "codemirror_mode": {
    "name": "ipython",
    "version": 3
   },
   "file_extension": ".py",
   "mimetype": "text/x-python",
   "name": "python",
   "nbconvert_exporter": "python",
   "pygments_lexer": "ipython3",
   "version": "3.13.0"
  }
 },
 "nbformat": 4,
 "nbformat_minor": 5
}
